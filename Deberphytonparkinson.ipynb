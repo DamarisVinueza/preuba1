{
 "cells": [
  {
   "cell_type": "code",
   "execution_count": 1,
   "id": "120263dc-aa43-4f18-8160-26154ccb396c",
   "metadata": {},
   "outputs": [],
   "source": [
    "import re\n",
    "import csv"
   ]
  },
  {
   "cell_type": "code",
   "execution_count": 2,
   "id": "2f6a4bd8-b501-4bbd-88b1-d7aa4b01bdaf",
   "metadata": {},
   "outputs": [],
   "source": [
    "with open('pubmed-parkinson-set.txt', encoding=\"utf8\") as f:\n",
    "    my_text = f.read()"
   ]
  },
  {
   "cell_type": "code",
   "execution_count": 3,
   "id": "77f0e005-e03f-420c-9675-e8e2fbf98ebb",
   "metadata": {},
   "outputs": [
    {
     "data": {
      "text/plain": [
       "26586049"
      ]
     },
     "execution_count": 3,
     "metadata": {},
     "output_type": "execute_result"
    }
   ],
   "source": [
    "len(my_text)"
   ]
  },
  {
   "cell_type": "code",
   "execution_count": 4,
   "id": "14fda81a-8f1a-4d81-beca-b486a816ccf8",
   "metadata": {},
   "outputs": [],
   "source": [
    "my_text = re.sub(r'\\n\\s{6}', ' ', my_text)"
   ]
  },
  {
   "cell_type": "code",
   "execution_count": 5,
   "id": "cc4489da-a2ae-45c3-a310-f893d5ddbffb",
   "metadata": {},
   "outputs": [
    {
     "name": "stdout",
     "output_type": "stream",
     "text": [
      "PMID- 30584159\n",
      "OWN - NLM\n",
      "STAT- MEDLINE\n",
      "DCOM- 20191017\n",
      "LR  - 20200225\n",
      "IS  - 1877-718X (Electronic)\n",
      "IS  - 1877-7171 (Print)\n",
      "IS  - 1877-7171 (Linking)\n",
      "VI  - 8\n",
      "IP  - s1\n",
      "DP  - 2018\n",
      "TI  - The Emerging Evidence of the Parkinson Pandemic.\n",
      "PG  - S3-S8\n",
      "LID - 10.3233/JPD-181474 [doi]\n",
      "AB  - Neurological disorders are now the leading source of disability globally, and the  fastest growing neurological disorder in the world is Parkinson disease. From 1990  to 2015, the number of people with Parkinson disease doubled to over 6 million.  Driven principally by aging, this number is projected to double again to over 12  million by 2040. Additional factors, including increasing longevity, declining  smoking rates, and increasing industrialization, could raise the burden to over 17  million. For most of human history, Parkinson has been a rare disorder. However,  demography and the by-products of industrialization have now created a Parkinson  pandemic that will require heightened activism, focused planning, and novel  approaches.\n",
      "FAU - Dorsey, E Ray\n",
      "AU  - Dorsey ER\n",
      "AD  - Department of Neurology and Center for Health+Technology, University of Rochester  Medical Center, Rochester, NY, USA.\n",
      "FAU - Sherer, Todd\n",
      "AU  - Sherer T\n",
      "AD  - Michael J. Fox Foundation for Parkinson's Research, New York, NY, USA.\n",
      "FAU - Okun, Michael S\n",
      "AU  - Okun MS\n",
      "AD  - Fixel Center for Neurological Diseases, Program for Movement Disorders and  Neurorestoration, Department of Neurology, University of Florida, Gainesville, FL,  USA.\n",
      "FAU - Bloem, Bastiaan R\n",
      "AU  - Bloem BR\n",
      "AD  - Radboud University Medical Center, Donders Institute for Brain, Cognition and  Behavior, Department of Neurology, Nijmegen, The Netherlands.\n",
      "LA  - eng\n",
      "PT  - Journal Article\n",
      "PT  - Review\n",
      "TA  - J Parkinsons Dis\n",
      "JT  - Journal of Parkinson's disease\n",
      "JID - 101567362\n",
      "SB  - IM\n",
      "MH  - *Aging\n",
      "MH  - Global Health\n",
      "MH  - Humans\n",
      "MH  - Pandemics\n",
      "MH  - Parkinson Disease/*epidemiology\n",
      "MH  - Parkinsonian Disorders/*epidemiology\n",
      "MH  - Survival Rate\n",
      "PMC - PMC631136\n"
     ]
    }
   ],
   "source": [
    "print(my_text[:2000])"
   ]
  },
  {
   "cell_type": "code",
   "execution_count": 6,
   "id": "c4e04615-74d7-4ab1-b65f-0f1b6be05c28",
   "metadata": {},
   "outputs": [
    {
     "name": "stdout",
     "output_type": "stream",
     "text": [
      "24429\n"
     ]
    }
   ],
   "source": [
    "lcc = re.findall(r\"AD\\s+\\-\\s\\w.+\", my_text)\n",
    "print(len(lcc))"
   ]
  },
  {
   "cell_type": "code",
   "execution_count": 7,
   "id": "65f88bd2-9e30-4b76-8629-931c3e6c9a7f",
   "metadata": {},
   "outputs": [
    {
     "name": "stdout",
     "output_type": "stream",
     "text": [
      "['AD  - Department of Neurology and Center for Health+Technology, University of Rochester  Medical Center, Rochester, NY, USA.', \"AD  - Michael J. Fox Foundation for Parkinson's Research, New York, NY, USA.\", 'AD  - Fixel Center for Neurological Diseases, Program for Movement Disorders and  Neurorestoration, Department of Neurology, University of Florida, Gainesville, FL,  USA.', 'AD  - Radboud University Medical Center, Donders Institute for Brain, Cognition and  Behavior, Department of Neurology, Nijmegen, The Netherlands.', \"AD  - Department of Neurology, Brigham and Women's Hospital, Harvard Medical School,  Boston, Mass. Electronic address: mthayes@bwh.harvard.edu.\", 'AD  - Lund University, Skåne University Hospital, Department of Clinical Sciences Lund,  Neurology, Lund, Sweden. Andreas.Puschmann@med.lu.se.', 'AD  - Department for Neurology, Skåne University Hospital, Getingevägen 4, 224 67, Lund,  Sweden. Andreas.Puschmann@med.lu.se.', \"AD  - Department of Neurology, Parkinson's Disease Center and Movement Disorders Clinic,  Baylor College of Medicine, 6550 Fannin, Suite 1801, Houston, Texas 77030-3498, USA.  josephj@bcm.tmc.edu\", 'AD  - Neurology Service, Hospital Clinic, University of Barcelona, Barcelona, Spain.  etolosa@clinic.ub.es', 'AD  - Department of Neurology, Donders Institute for Brain, Cognition and Behaviour,  Radboud University Medical Center, Nijmegen, The Netherlands.']\n"
     ]
    }
   ],
   "source": [
    "print(lcc[:10])"
   ]
  },
  {
   "cell_type": "code",
   "execution_count": 8,
   "id": "d63d033b-b20c-4ace-b78f-d2fbd65dff10",
   "metadata": {},
   "outputs": [
    {
     "name": "stdout",
     "output_type": "stream",
     "text": [
      "[\"('AD  - Department for Neurology, Skåne University Hospital, Getingevägen 4, 224 67, Lund,  Sweden. Andreas.P', 'AD  - Neurology Service, Hospital Clinic, University of Barcelona, Barcelona, Spain.  ')\", \"('AD  - Department for Neurology, Skåne University Hospital, Getingevägen 4, 224 67, Lund,  Sweden. Andreas.P', 'AD  - Neurology Service, Hospital Clinic, University of Barcelona, Barcelona, Spain.  ')\"]\n"
     ]
    }
   ],
   "source": [
    "q = ('AD  - Department for Neurology, Skåne University Hospital, Getingevägen 4, 224 67, Lund,  Sweden. Andreas.Puschmann@med.lu.se','AD  - Neurology Service, Hospital Clinic, University of Barcelona, Barcelona, Spain.  etolosa@clinic.ub.es')\n",
    "q_nuevo = []\n",
    "for r in range(len(q)):\n",
    "    q_n = re.sub(r\"(?:[a-z0-9!#$%&'*+/=?^_`{|}~-]+(?:\\.[a-z0-9!#$%&'*+/=?^_`{|}~-]+)*|\\\"(?:[\\x01-\\x08\\x0b\\x0c\\x0e-\\x1f\\x21\\x23-\\x5b\\x5d-\\x7f]|\\\\[\\x01-\\x09\\x0b\\x0c\\x0e-\\x7f])*\\\")@(?:(?:[a-z0-9](?:[a-z0-9-]*[a-z0-9])?\\.)+[a-z0-9](?:[a-z0-9-]*[a-z0-9])?|\\[(?:(?:(2(5[0-5]|[0-4][0-9])|1[0-9][0-9]|[1-9]?[0-9]))\\.){3}(?:(2(5[0-5]|[0-4][0-9])|1[0-9][0-9]|[1-9]?[0-9])|[a-z0-9-]*[a-z0-9]:(?:[\\x01-\\x08\\x0b\\x0c\\x0e-\\x1f\\x21-\\x5a\\x53-\\x7f]|\\\\[\\x01-\\x09\\x0b\\x0c\\x0e-\\x7f])+)\\])\",'',str(q))\n",
    "    q_nuevo.append(q_n)\n",
    "    \n",
    "print(q_nuevo)"
   ]
  },
  {
   "cell_type": "code",
   "execution_count": null,
   "id": "be836a74-be0e-4f2a-a86f-dec76f7d12aa",
   "metadata": {},
   "outputs": [],
   "source": []
  },
  {
   "cell_type": "code",
   "execution_count": null,
   "id": "95bfdbf2-15f9-448c-a6ac-15acb4dd0aec",
   "metadata": {},
   "outputs": [],
   "source": []
  },
  {
   "cell_type": "code",
   "execution_count": 10,
   "id": "68f30445-4f28-4f4f-b1c3-835b67f5dee3",
   "metadata": {},
   "outputs": [
    {
     "name": "stdout",
     "output_type": "stream",
     "text": [
      "24429\n"
     ]
    }
   ],
   "source": [
    "print(len(lcc))\n"
   ]
  },
  {
   "cell_type": "code",
   "execution_count": 12,
   "id": "a81812ec-2f98-46a2-b5cd-fc700b801675",
   "metadata": {},
   "outputs": [
    {
     "name": "stdout",
     "output_type": "stream",
     "text": [
      "[' USA.', ' J.', ' USA.', '  USA.', ' Netherlands.', ' Mass.', ' Sweden.', ' Andreas.', '  Sweden.', ' Andreas.']\n"
     ]
    }
   ],
   "source": [
    "zipcodes = re.findall(r\"\\s+\\w+[.$]\", str(lcc))\n",
    "print(zipcodes[:10])"
   ]
  },
  {
   "cell_type": "code",
   "execution_count": 13,
   "id": "e20d5ccb-f65c-4306-b974-9340f48434ae",
   "metadata": {},
   "outputs": [
    {
     "data": {
      "text/plain": [
       "29348"
      ]
     },
     "execution_count": 13,
     "metadata": {},
     "output_type": "execute_result"
    }
   ],
   "source": [
    "len(zipcodes)"
   ]
  },
  {
   "cell_type": "code",
   "execution_count": 14,
   "id": "d047b9da-daa4-44b5-b04f-6907b3bc7e30",
   "metadata": {},
   "outputs": [],
   "source": [
    "unique_zipcodes = list(set(zipcodes))"
   ]
  },
  {
   "cell_type": "code",
   "execution_count": 15,
   "id": "404f2fde-f5bd-457d-8c0d-7fded89e61a8",
   "metadata": {},
   "outputs": [],
   "source": [
    "unique_zipcodes.sort()"
   ]
  },
  {
   "cell_type": "code",
   "execution_count": 16,
   "id": "00fa3c32-02b2-48eb-801e-636bdf6c7e6d",
   "metadata": {},
   "outputs": [
    {
     "data": {
      "text/plain": [
       "['  63110.',\n",
       " '  650032.',\n",
       " '  66103.',\n",
       " '  75235.',\n",
       " '  85724.',\n",
       " '  92093.',\n",
       " '  A.',\n",
       " '  Abdelhamid.',\n",
       " '  Abdelrahman.',\n",
       " '  Adolfo.']"
      ]
     },
     "execution_count": 16,
     "metadata": {},
     "output_type": "execute_result"
    }
   ],
   "source": [
    "unique_zipcodes[10:20]"
   ]
  },
  {
   "cell_type": "code",
   "execution_count": 17,
   "id": "7aedfc19-4f47-4fee-9e75-6ab06412a2ad",
   "metadata": {},
   "outputs": [
    {
     "data": {
      "text/plain": [
       "1992"
      ]
     },
     "execution_count": 17,
     "metadata": {},
     "output_type": "execute_result"
    }
   ],
   "source": [
    "len(unique_zipcodes)"
   ]
  },
  {
   "cell_type": "code",
   "execution_count": 18,
   "id": "b419c6c5-b60c-4cb8-ad31-0fa56a0a5590",
   "metadata": {},
   "outputs": [],
   "source": [
    "import pandas as pd\n",
    "import re"
   ]
  },
  {
   "cell_type": "code",
   "execution_count": 19,
   "id": "8fa0413d-8dfb-4e9b-91fd-c351b2f8e1cf",
   "metadata": {},
   "outputs": [],
   "source": [
    "datos = pd.read_csv('zipcodes_coordinates.csv')\n",
    "df = pd.DataFrame(datos)"
   ]
  },
  {
   "cell_type": "code",
   "execution_count": 20,
   "id": "4b39b977-a1c1-492e-bbf2-534e5bb80ed5",
   "metadata": {},
   "outputs": [
    {
     "ename": "KeyError",
     "evalue": "'name'",
     "output_type": "error",
     "traceback": [
      "\u001b[1;31m---------------------------------------------------------------------------\u001b[0m",
      "\u001b[1;31mKeyError\u001b[0m                                  Traceback (most recent call last)",
      "\u001b[1;32m~\\anaconda3\\lib\\site-packages\\pandas\\core\\indexes\\base.py\u001b[0m in \u001b[0;36mget_loc\u001b[1;34m(self, key, method, tolerance)\u001b[0m\n\u001b[0;32m   3079\u001b[0m             \u001b[1;32mtry\u001b[0m\u001b[1;33m:\u001b[0m\u001b[1;33m\u001b[0m\u001b[1;33m\u001b[0m\u001b[0m\n\u001b[1;32m-> 3080\u001b[1;33m                 \u001b[1;32mreturn\u001b[0m \u001b[0mself\u001b[0m\u001b[1;33m.\u001b[0m\u001b[0m_engine\u001b[0m\u001b[1;33m.\u001b[0m\u001b[0mget_loc\u001b[0m\u001b[1;33m(\u001b[0m\u001b[0mcasted_key\u001b[0m\u001b[1;33m)\u001b[0m\u001b[1;33m\u001b[0m\u001b[1;33m\u001b[0m\u001b[0m\n\u001b[0m\u001b[0;32m   3081\u001b[0m             \u001b[1;32mexcept\u001b[0m \u001b[0mKeyError\u001b[0m \u001b[1;32mas\u001b[0m \u001b[0merr\u001b[0m\u001b[1;33m:\u001b[0m\u001b[1;33m\u001b[0m\u001b[1;33m\u001b[0m\u001b[0m\n",
      "\u001b[1;32mpandas\\_libs\\index.pyx\u001b[0m in \u001b[0;36mpandas._libs.index.IndexEngine.get_loc\u001b[1;34m()\u001b[0m\n",
      "\u001b[1;32mpandas\\_libs\\index.pyx\u001b[0m in \u001b[0;36mpandas._libs.index.IndexEngine.get_loc\u001b[1;34m()\u001b[0m\n",
      "\u001b[1;32mpandas\\_libs\\hashtable_class_helper.pxi\u001b[0m in \u001b[0;36mpandas._libs.hashtable.PyObjectHashTable.get_item\u001b[1;34m()\u001b[0m\n",
      "\u001b[1;32mpandas\\_libs\\hashtable_class_helper.pxi\u001b[0m in \u001b[0;36mpandas._libs.hashtable.PyObjectHashTable.get_item\u001b[1;34m()\u001b[0m\n",
      "\u001b[1;31mKeyError\u001b[0m: 'name'",
      "\nThe above exception was the direct cause of the following exception:\n",
      "\u001b[1;31mKeyError\u001b[0m                                  Traceback (most recent call last)",
      "\u001b[1;32m<ipython-input-20-67673aa09a8f>\u001b[0m in \u001b[0;36m<module>\u001b[1;34m\u001b[0m\n\u001b[1;32m----> 1\u001b[1;33m \u001b[0mpaises\u001b[0m \u001b[1;33m=\u001b[0m \u001b[0mdf\u001b[0m \u001b[1;33m[\u001b[0m\u001b[1;34m'name'\u001b[0m\u001b[1;33m]\u001b[0m\u001b[1;33m.\u001b[0m\u001b[0mstr\u001b[0m\u001b[1;33m.\u001b[0m\u001b[0mextract\u001b[0m\u001b[1;33m(\u001b[0m\u001b[1;34m'(\\w+)'\u001b[0m\u001b[1;33m)\u001b[0m\u001b[1;33m\u001b[0m\u001b[1;33m\u001b[0m\u001b[0m\n\u001b[0m\u001b[0;32m      2\u001b[0m \u001b[0mprint\u001b[0m\u001b[1;33m(\u001b[0m\u001b[0mpaises\u001b[0m\u001b[1;33m)\u001b[0m\u001b[1;33m\u001b[0m\u001b[1;33m\u001b[0m\u001b[0m\n",
      "\u001b[1;32m~\\anaconda3\\lib\\site-packages\\pandas\\core\\frame.py\u001b[0m in \u001b[0;36m__getitem__\u001b[1;34m(self, key)\u001b[0m\n\u001b[0;32m   3022\u001b[0m             \u001b[1;32mif\u001b[0m \u001b[0mself\u001b[0m\u001b[1;33m.\u001b[0m\u001b[0mcolumns\u001b[0m\u001b[1;33m.\u001b[0m\u001b[0mnlevels\u001b[0m \u001b[1;33m>\u001b[0m \u001b[1;36m1\u001b[0m\u001b[1;33m:\u001b[0m\u001b[1;33m\u001b[0m\u001b[1;33m\u001b[0m\u001b[0m\n\u001b[0;32m   3023\u001b[0m                 \u001b[1;32mreturn\u001b[0m \u001b[0mself\u001b[0m\u001b[1;33m.\u001b[0m\u001b[0m_getitem_multilevel\u001b[0m\u001b[1;33m(\u001b[0m\u001b[0mkey\u001b[0m\u001b[1;33m)\u001b[0m\u001b[1;33m\u001b[0m\u001b[1;33m\u001b[0m\u001b[0m\n\u001b[1;32m-> 3024\u001b[1;33m             \u001b[0mindexer\u001b[0m \u001b[1;33m=\u001b[0m \u001b[0mself\u001b[0m\u001b[1;33m.\u001b[0m\u001b[0mcolumns\u001b[0m\u001b[1;33m.\u001b[0m\u001b[0mget_loc\u001b[0m\u001b[1;33m(\u001b[0m\u001b[0mkey\u001b[0m\u001b[1;33m)\u001b[0m\u001b[1;33m\u001b[0m\u001b[1;33m\u001b[0m\u001b[0m\n\u001b[0m\u001b[0;32m   3025\u001b[0m             \u001b[1;32mif\u001b[0m \u001b[0mis_integer\u001b[0m\u001b[1;33m(\u001b[0m\u001b[0mindexer\u001b[0m\u001b[1;33m)\u001b[0m\u001b[1;33m:\u001b[0m\u001b[1;33m\u001b[0m\u001b[1;33m\u001b[0m\u001b[0m\n\u001b[0;32m   3026\u001b[0m                 \u001b[0mindexer\u001b[0m \u001b[1;33m=\u001b[0m \u001b[1;33m[\u001b[0m\u001b[0mindexer\u001b[0m\u001b[1;33m]\u001b[0m\u001b[1;33m\u001b[0m\u001b[1;33m\u001b[0m\u001b[0m\n",
      "\u001b[1;32m~\\anaconda3\\lib\\site-packages\\pandas\\core\\indexes\\base.py\u001b[0m in \u001b[0;36mget_loc\u001b[1;34m(self, key, method, tolerance)\u001b[0m\n\u001b[0;32m   3080\u001b[0m                 \u001b[1;32mreturn\u001b[0m \u001b[0mself\u001b[0m\u001b[1;33m.\u001b[0m\u001b[0m_engine\u001b[0m\u001b[1;33m.\u001b[0m\u001b[0mget_loc\u001b[0m\u001b[1;33m(\u001b[0m\u001b[0mcasted_key\u001b[0m\u001b[1;33m)\u001b[0m\u001b[1;33m\u001b[0m\u001b[1;33m\u001b[0m\u001b[0m\n\u001b[0;32m   3081\u001b[0m             \u001b[1;32mexcept\u001b[0m \u001b[0mKeyError\u001b[0m \u001b[1;32mas\u001b[0m \u001b[0merr\u001b[0m\u001b[1;33m:\u001b[0m\u001b[1;33m\u001b[0m\u001b[1;33m\u001b[0m\u001b[0m\n\u001b[1;32m-> 3082\u001b[1;33m                 \u001b[1;32mraise\u001b[0m \u001b[0mKeyError\u001b[0m\u001b[1;33m(\u001b[0m\u001b[0mkey\u001b[0m\u001b[1;33m)\u001b[0m \u001b[1;32mfrom\u001b[0m \u001b[0merr\u001b[0m\u001b[1;33m\u001b[0m\u001b[1;33m\u001b[0m\u001b[0m\n\u001b[0m\u001b[0;32m   3083\u001b[0m \u001b[1;33m\u001b[0m\u001b[0m\n\u001b[0;32m   3084\u001b[0m         \u001b[1;32mif\u001b[0m \u001b[0mtolerance\u001b[0m \u001b[1;32mis\u001b[0m \u001b[1;32mnot\u001b[0m \u001b[1;32mNone\u001b[0m\u001b[1;33m:\u001b[0m\u001b[1;33m\u001b[0m\u001b[1;33m\u001b[0m\u001b[0m\n",
      "\u001b[1;31mKeyError\u001b[0m: 'name'"
     ]
    }
   ],
   "source": [
    "paises = df ['name'].str.extract('(\\w+)')\n",
    "print(paises)"
   ]
  },
  {
   "cell_type": "code",
   "execution_count": null,
   "id": "95ece950-9f2e-4e5f-a084-39216b255bc0",
   "metadata": {},
   "outputs": [],
   "source": [
    "latitudes = df['latitude'].astype(str).str.extract('(\\d+(?:\\.\\d+)?)')\n",
    "print(latitudes)"
   ]
  },
  {
   "cell_type": "code",
   "execution_count": null,
   "id": "c0b31696-6026-4182-b9da-79457c0082b0",
   "metadata": {},
   "outputs": [],
   "source": [
    "longitudes = df['longitude'].astype(str).str.extract('(\\d+(?:\\.\\d+)?)')\n",
    "print(longitudes)"
   ]
  },
  {
   "cell_type": "code",
   "execution_count": null,
   "id": "f6f43680-3105-416e-b5da-1d3d9b284856",
   "metadata": {},
   "outputs": [],
   "source": [
    "zip_coordinates = {}\n",
    "with open('zipcodes_coordinates.csv') as f:\n",
    "    csvr = csv.DictReader(f)\n",
    "    for row in csvr:\n",
    "        zip_coordinates[row ['ZIP']] = [float(row['LAT']), \n",
    "                                        float(row['LNG'])]"
   ]
  },
  {
   "cell_type": "code",
   "execution_count": null,
   "id": "cd1ffe57-0da2-4a7a-8cdb-4533c264af0a",
   "metadata": {},
   "outputs": [],
   "source": [
    "zip_code = []\n",
    "zip_long = []\n",
    "zip_lat = []\n",
    "zip_count = []"
   ]
  },
  {
   "cell_type": "code",
   "execution_count": null,
   "id": "bb674708-aec4-4d4b-a191-a4c685c6204b",
   "metadata": {},
   "outputs": [],
   "source": [
    "import matplotlib.pyplot as plt\n",
    "%matplotlib inline\n",
    "plt.scatter(zip_long, zip_lat, s = zip_count, c= zip_count)\n",
    "plt.colorbar()\n",
    "# only continental us without Alaska\n",
    "plt.xlim(-1125,-665)\n",
    "plt.ylim(223, 550)\n",
    "# add a few cities for reference (optional)\n",
    "ard = dict(arrowstyle=\"->\")\n",
    "plt.annotate('USA', xy = (37.09, -95.71), \n",
    "               xytext = (37.09024, -96.712891), arrowprops = ard)\n",
    "plt.annotate('UK', xy = (55.378, -3.435), \n",
    "               xytext = (60.378051, -3.435973), arrowprops= ard)\n",
    "plt.annotate('Brazil', xy = (-14.234, -51.925), \n",
    "               xytext = (-14.235004, -50.92528), arrowprops= ard)\n",
    "plt.annotate('China', xy = (35.86166, 104.195397), \n",
    "               xytext = (35.86166, 104.195397), arrowprops= ard)\n",
    "plt.annotate('Australia', xy = (-25.274398, 133.775136), \n",
    "               xytext = (-25.274398, 133.775136), arrowprops= ard)\n",
    "plt.annotate('Norway', xy = (60.472024, 8.468946), \n",
    "               xytext = (60.472024, 8.468946), arrowprops= ard)\n",
    "params = plt.gcf()\n",
    "plSize = params.get_size_inches()\n",
    "params.set_size_inches( (plSize[0] * 3, plSize[1] * 3) )\n",
    "plt.show()\n"
   ]
  },
  {
   "cell_type": "code",
   "execution_count": null,
   "id": "2c359077-b2c8-4e84-a904-bfa619ce376d",
   "metadata": {},
   "outputs": [],
   "source": []
  },
  {
   "cell_type": "code",
   "execution_count": null,
   "id": "b38cda75-13a9-459b-828a-d4f31ffce40c",
   "metadata": {},
   "outputs": [],
   "source": []
  }
 ],
 "metadata": {
  "kernelspec": {
   "display_name": "Python 3",
   "language": "python",
   "name": "python3"
  },
  "language_info": {
   "codemirror_mode": {
    "name": "ipython",
    "version": 3
   },
   "file_extension": ".py",
   "mimetype": "text/x-python",
   "name": "python",
   "nbconvert_exporter": "python",
   "pygments_lexer": "ipython3",
   "version": "3.8.8"
  },
  "toc-showtags": false
 },
 "nbformat": 4,
 "nbformat_minor": 5
}
